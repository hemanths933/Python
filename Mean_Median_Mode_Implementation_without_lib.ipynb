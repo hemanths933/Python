{
 "cells": [
  {
   "cell_type": "markdown",
   "metadata": {},
   "source": [
    "## Mean Median and Mode Implementation without library\n",
    "__Input from CommandLine:__<br>\n",
    "Enter the length of the list: 4<br>\n",
    "Enter the numbers: 32 4 56 2<br>\n",
    "<br>\n",
    "__Output:__<br>\n",
    "Mean is 23.5<br>\n",
    "Median is 18<br>\n",
    "mode is 2<br>"
   ]
  },
  {
   "cell_type": "code",
   "execution_count": 1,
   "metadata": {},
   "outputs": [
    {
     "name": "stdout",
     "output_type": "stream",
     "text": [
      "ENter the length of the list: 4\n",
      "Enter the numbers: 32 4 56 2\n",
      "[32.0, 4.0, 56.0, 2.0]\n",
      "length of X 4\n",
      "Mean is23.5\n",
      "Median is 18.0\n",
      "Mode is 2.0\n"
     ]
    }
   ],
   "source": [
    "N = input(\"ENter the length of the list: \")\n",
    "N = int(N)\n",
    "X = input(\"Enter the numbers: \")\n",
    "X = X.split(\" \")\n",
    "Y=[]\n",
    "for m in X:\n",
    "    Y.append(float(m))\n",
    "X = Y\n",
    "\n",
    "if len(X)!=N:\n",
    "    raise Exception(\"The number of values input is not 10\")\n",
    "else:\n",
    "    mean=0\n",
    "    median=0\n",
    "    mode=0\n",
    "    sum=0\n",
    "    mid =0 \n",
    "    for i in X:\n",
    "        sum = sum+i\n",
    "    mean = sum/N\n",
    "    \n",
    "    sorted_X = sorted(X)\n",
    "    if len(sorted_X)%2==0:\n",
    "        mid = int(len(sorted_X)/2)\n",
    "        median = (sorted_X[mid-1]+sorted_X[mid])/2\n",
    "    else:\n",
    "        median = sorted_X[int(len(sorted_X)/2)]\n",
    "    \n",
    "    dictionary = {}\n",
    "    count=0\n",
    "    set_X = set(X)\n",
    "    sorted_set_X = sorted(set_X)\n",
    "    for j in sorted_set_X:\n",
    "        for k in X:\n",
    "            if j==k:\n",
    "                count = count + 1\n",
    "        dictionary[j]=count;\n",
    "        count=0;\n",
    "   \n",
    "    b = sorted(list(dictionary.items()),key=lambda x: float(x[0]))\n",
    "    b.sort(reverse = True,key=lambda x: int(x[1]))\n",
    "    mode = b[0][0]\n",
    "    print(\"Mean is\"+str(float(\"{0:.2f}\".format(mean))))\n",
    "    print(\"Median is \"+str(float(\"{0:.2f}\".format(median))))\n",
    "    print(\"Mode is \"+str(mode))"
   ]
  },
  {
   "cell_type": "code",
   "execution_count": null,
   "metadata": {},
   "outputs": [],
   "source": []
  }
 ],
 "metadata": {
  "kernelspec": {
   "display_name": "Python 3",
   "language": "python",
   "name": "python3"
  },
  "language_info": {
   "codemirror_mode": {
    "name": "ipython",
    "version": 3
   },
   "file_extension": ".py",
   "mimetype": "text/x-python",
   "name": "python",
   "nbconvert_exporter": "python",
   "pygments_lexer": "ipython3",
   "version": "3.6.4"
  }
 },
 "nbformat": 4,
 "nbformat_minor": 2
}
