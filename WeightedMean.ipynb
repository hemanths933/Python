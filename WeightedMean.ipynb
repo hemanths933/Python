{
 "cells": [
  {
   "cell_type": "markdown",
   "metadata": {},
   "source": [
    "## Weighted mean of numbers\n",
    "__Input:__<br>\n",
    "Enter the length of the list: 5<br>\n",
    "ENter the numbers: 10 40 30 50 20 <br>\n",
    "Enter the weights: 1 2 3 4 5<br>\n",
    "    <br>\n",
    "__Output:__<br>\n",
    "32.0<br>\n",
    "<br>\n",
    "formula: (10*1 + 40*2 + 30*3 + 50*4 + 20*5)/(1+2+3+4+5)<br>"
   ]
  },
  {
   "cell_type": "code",
   "execution_count": null,
   "metadata": {},
   "outputs": [],
   "source": [
    "N = input()\n",
    "N = int(N)\n",
    "X = input()\n",
    "W = input()\n",
    "X = X.split(\" \")\n",
    "temp1=[]\n",
    "temp2=[]\n",
    "for m in X:\n",
    "    temp1.append(float(m))\n",
    "X = temp1\n",
    "W = W.split(\" \")\n",
    "for n in W:\n",
    "    temp2.append(float(n))\n",
    "W = temp2\n",
    "X_sum =0\n",
    "W_sum =0\n",
    "for i in range(0,N):\n",
    "    X_sum = X_sum + X[i]*W[i]\n",
    "    W_sum = W_sum + W[i]\n",
    "print(str(float(\"{0:.1f}\".format(X_sum/W_sum))))\n"
   ]
  },
  {
   "cell_type": "code",
   "execution_count": null,
   "metadata": {},
   "outputs": [],
   "source": []
  }
 ],
 "metadata": {
  "kernelspec": {
   "display_name": "Python 3",
   "language": "python",
   "name": "python3"
  },
  "language_info": {
   "codemirror_mode": {
    "name": "ipython",
    "version": 3
   },
   "file_extension": ".py",
   "mimetype": "text/x-python",
   "name": "python",
   "nbconvert_exporter": "python",
   "pygments_lexer": "ipython3",
   "version": "3.6.4"
  }
 },
 "nbformat": 4,
 "nbformat_minor": 2
}
